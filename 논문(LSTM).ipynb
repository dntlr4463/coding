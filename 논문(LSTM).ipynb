{
  "nbformat": 4,
  "nbformat_minor": 0,
  "metadata": {
    "colab": {
      "provenance": [],
      "authorship_tag": "ABX9TyOkFf5FlAPpwkSmeSRiCQhu",
      "include_colab_link": true
    },
    "kernelspec": {
      "name": "python3",
      "display_name": "Python 3"
    },
    "language_info": {
      "name": "python"
    }
  },
  "cells": [
    {
      "cell_type": "markdown",
      "metadata": {
        "id": "view-in-github",
        "colab_type": "text"
      },
      "source": [
        "<a href=\"https://colab.research.google.com/github/dntlr4463/coding/blob/main/%EB%85%BC%EB%AC%B8(LSTM).ipynb\" target=\"_parent\"><img src=\"https://colab.research.google.com/assets/colab-badge.svg\" alt=\"Open In Colab\"/></a>"
      ]
    },
    {
      "cell_type": "code",
      "execution_count": null,
      "metadata": {
        "id": "0Kjf5dJdIK8_"
      },
      "outputs": [],
      "source": [
        "import torch\n",
        "import torch.optim as optim\n",
        "import torch.nn as nn\n",
        "import pymysql\n",
        "\n",
        "# DataSet 관련\n",
        "import numpy as np\n",
        "import pandas as pd\n",
        "from torch.utils.data import DataLoader, TensorDataset\n",
        "from sklearn.preprocessing import MinMaxScaler\n",
        "\n",
        "# Visualization 관련\n",
        "import matplotlib.pyplot as plt\n",
        "\n",
        "# GPU\n",
        "torch.manual_seed(0)\n",
        "device = torch.device(\"cuda:0\" if torch.cuda.is_available()\n",
        "                     else \"cpu\")\n",
        "\n",
        "# 7일간의 데이터가 입력으로 들어가고 batch size는 임의로 지정\n",
        "seq_length = 7\n",
        "batch = 100\n",
        "\n",
        "# 데이터를 역순으로 정렬하여 전체 데이터의 70% 학습, 30% 테스트에 사용\n",
        "df_b = df_b[::-1]  \n",
        "train_size = int(len(df_b)*0.7)\n",
        "train_set = df_b[0:train_size]  \n",
        "test_set = df_b[train_size-seq_length:]\n",
        "\n",
        "# Input scale\n",
        "scaler_x = MinMaxScaler()\n",
        "scaler_x.fit(train_set.iloc[:, :-1])\n",
        "\n",
        "train_set.iloc[:, :-1] = scaler_x.transform(train_set.iloc[:, :-1])\n",
        "test_set.iloc[:, :-1] = scaler_x.transform(test_set.iloc[:, :-1])\n",
        "\n",
        "# Output scale\n",
        "scaler_y = MinMaxScaler()\n",
        "scaler_y.fit(train_set.iloc[:, [-1]])\n",
        "\n",
        "train_set.iloc[:, -1] = scaler_y.transform(train_set.iloc[:, [-1]])\n",
        "test_set.iloc[:, -1] = scaler_y.transform(test_set.iloc[:, [-1]])"
      ]
    },
    {
      "cell_type": "code",
      "source": [
        "# 데이터셋 생성 함수\n",
        "def build_dataset(time_series, seq_length):\n",
        "    dataX = []\n",
        "    dataY = []\n",
        "    for i in range(0, len(time_series)-seq_length):\n",
        "        _x = time_series[i:i+seq_length, :]\n",
        "        _y = time_series[i+seq_length, [-1]]\n",
        "        # print(_x, \"-->\",_y)\n",
        "        dataX.append(_x)\n",
        "        dataY.append(_y)\n",
        "\n",
        "    return np.array(dataX), np.array(dataY)\n",
        "\n",
        "trainX, trainY = build_dataset(np.array(train_set), seq_length)\n",
        "testX, testY = build_dataset(np.array(test_set), seq_length)\n",
        "\n",
        "# 텐서로 변환\n",
        "trainX_tensor = torch.FloatTensor(trainX)\n",
        "trainY_tensor = torch.FloatTensor(trainY)\n",
        "\n",
        "testX_tensor = torch.FloatTensor(testX)\n",
        "testY_tensor = torch.FloatTensor(testY)\n",
        "\n",
        "# 텐서 형태로 데이터 정의\n",
        "dataset = TensorDataset(trainX_tensor, trainY_tensor)\n",
        "\n",
        "# 데이터로더는 기본적으로 2개의 인자를 입력받으며 배치크기는 통상적으로 2의 배수를 사용\n",
        "dataloader = DataLoader(dataset,\n",
        "                        batch_size=batch,\n",
        "                        shuffle=True,  \n",
        "                        drop_last=True)"
      ],
      "metadata": {
        "id": "hHS4swP-CqqF"
      },
      "execution_count": null,
      "outputs": []
    },
    {
      "cell_type": "code",
      "source": [
        "# hyperparameter\n",
        "data_dim = 5\n",
        "hidden_dim = 10\n",
        "output_dim = 1 \n",
        "learning_rate = 0.01\n",
        "nb_epochs = 100\n",
        "\n",
        "class Net(nn.Module):\n",
        "    # # 기본변수, layer를 초기화해주는 생성자\n",
        "    def __init__(self, input_dim, hidden_dim, seq_len, output_dim, layers):\n",
        "        super(Net, self).__init__()\n",
        "        self.hidden_dim = hidden_dim\n",
        "        self.seq_len = seq_len\n",
        "        self.output_dim = output_dim\n",
        "        self.layers = layers\n",
        "        \n",
        "        self.lstm = nn.LSTM(input_dim, hidden_dim, num_layers=layers,\n",
        "                            # dropout = 0.1,\n",
        "                            batch_first=True)\n",
        "        self.fc = nn.Linear(hidden_dim, output_dim, bias = True) \n",
        "        \n",
        "    # 은닉층을 초기화하는 함수\n",
        "    # 매번 새로운 학습을 하여 최적의 값을 찾기 위한 방안인듯.\n",
        "    def reset_hidden_state(self): \n",
        "        self.hidden = (\n",
        "                torch.zeros(self.layers, self.seq_len, self.hidden_dim),\n",
        "                torch.zeros(self.layers, self.seq_len, self.hidden_dim))\n",
        "    \n",
        "    # 순전파 함수\n",
        "    def forward(self, x):\n",
        "        x, _status = self.lstm(x)\n",
        "        x = self.fc(x[:, -1])\n",
        "        return x"
      ],
      "metadata": {
        "id": "SdJybn0PCbsm"
      },
      "execution_count": null,
      "outputs": []
    },
    {
      "cell_type": "code",
      "source": [
        "def train_model(model, train_df, epochs=None, lr=None, verbose=10, patience=10):\n",
        "    # 손실함수\n",
        "    criterion = nn.MSELoss().to(device)\n",
        "    # 최적함수\n",
        "    optimizer = optim.Adam(model.parameters(), lr=learning_rate)\n",
        "    # epoch마다 loss 저장\n",
        "    train_hist = np.zeros(epochs)\n",
        "    for epoch in range(epochs):\n",
        "        avg_cost = 0\n",
        "        total_batch = len(train_df)\n",
        "        \n",
        "        for batch_idx, samples in enumerate(train_df):\n",
        "            x_train, y_train = samples\n",
        "            # seq별 hidden state reset\n",
        "            model.reset_hidden_state()\n",
        "            \n",
        "            # H(X) 계산\n",
        "            outputs = model(x_train)\n",
        "            # cost 계산\n",
        "            loss = criterion(outputs, y_train)\n",
        "            # cost로 H(X) 개선\n",
        "            \n",
        "            # pytorch에서는 gradients 값들을 backward 해줄 때 계속 더해주기 때문에 backpropagation 하기 전에 gradients를 zero로 만들어주고 시작\n",
        "            # 즉, 한 번의 학습이 완료되면 gradients를 항상 0으로 만들어주어야 하고 그렇지 않으면 gradient 가 의도한 방향과 다른 방향을 가리켜 학습이 잘 이루어지지 않는다.\n",
        "            optimizer.zero_grad()\n",
        "            loss.backward()\n",
        "            \n",
        "            # Gradient Clipping 적용\n",
        "            torch_utils.clip_grad_norm_(model.parameters(), max_norm=1)\n",
        "            optimizer.step()\n",
        "            avg_cost += loss.item()\n",
        "            #avg_cost += loss/total_batch\n",
        "            \n",
        "        train_hist[epoch] = avg_cost\n",
        "        \n",
        "        if epoch%verbose == 0 :\n",
        "            print('Epoch : ', '%04d' % (epoch), 'train loss : ', '{:.4f}'.format(avg_cost))\n",
        "            \n",
        "        # patience마다 early stopping 여부 확인\n",
        "        if (epoch%patience==0) and (epoch!=0):\n",
        "            if train_hist[epoch-patience] < train_hist[epoch]:\n",
        "                print('\\n Early Stopping')\n",
        "                break\n",
        "    return model.eval(), train_hist"
      ],
      "metadata": {
        "id": "tX9056vMCQKB"
      },
      "execution_count": null,
      "outputs": []
    },
    {
      "cell_type": "code",
      "source": [
        "LSTM = Net(data_dim, hidden_dim, seq_length, output_dim, 1).to(device)\n",
        "\n",
        "# Train method\n",
        "model, train_hist = train_model(LSTM, dataloader, epochs = epochs, lr = learning_rate, verbose = 20, patience=10)"
      ],
      "metadata": {
        "id": "Dk7mZ-J1Cejf"
      },
      "execution_count": null,
      "outputs": []
    }
  ]
}